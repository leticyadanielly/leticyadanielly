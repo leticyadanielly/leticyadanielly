{
  "nbformat": 4,
  "nbformat_minor": 0,
  "metadata": {
    "colab": {
      "provenance": [],
      "authorship_tag": "ABX9TyM/UUzdNzGo7RMDaQc2ltj1",
      "include_colab_link": true
    },
    "kernelspec": {
      "name": "python3",
      "display_name": "Python 3"
    },
    "language_info": {
      "name": "python"
    }
  },
  "cells": [
    {
      "cell_type": "markdown",
      "metadata": {
        "id": "view-in-github",
        "colab_type": "text"
      },
      "source": [
        "<a href=\"https://colab.research.google.com/github/leticyadanielly/leticyadanielly/blob/main/ACUR%C3%81CIA_DESAFIO.ipynb\" target=\"_parent\"><img src=\"https://colab.research.google.com/assets/colab-badge.svg\" alt=\"Open In Colab\"/></a>"
      ]
    },
    {
      "cell_type": "code",
      "execution_count": 2,
      "metadata": {
        "colab": {
          "base_uri": "https://localhost:8080/"
        },
        "id": "0jrwwRuQrv0s",
        "outputId": "302ed5e0-6e51-4c75-9d98-a650bbe0f7fb"
      },
      "outputs": [
        {
          "output_type": "stream",
          "name": "stdout",
          "text": [
            "Métricas de Avaliação do Modelo:\n",
            "Acurácia:       80.00%\n",
            "Precisão:       87.50%\n",
            "Sensibilidade:  70.00%\n",
            "Especificidade: 90.00%\n",
            "F-Score:        77.78%\n"
          ]
        }
      ],
      "source": [
        "# Definindo os valores da matriz de confusão\n",
        "VP = 70  # Verdadeiros Positivos\n",
        "VN = 90  # Verdadeiros Negativos\n",
        "FP = 10  # Falsos Positivos\n",
        "FN = 30  # Falsos Negativos\n",
        "\n",
        "# Cálculo das métricas\n",
        "acuracia = (VP + VN) / (VP + VN + FP + FN)\n",
        "precisao = VP / (VP + FP) if (VP + FP) != 0 else 0\n",
        "sensibilidade = VP / (VP + FN) if (VP + FN) != 0 else 0  # Recall\n",
        "especificidade = VN / (VN + FP) if (VN + FP) != 0 else 0\n",
        "f_score = 2 * (precisao * sensibilidade) / (precisao + sensibilidade) if (precisao + sensibilidade) != 0 else 0\n",
        "\n",
        "# Impressão dos resultados\n",
        "print(\"Métricas de Avaliação do Modelo:\")\n",
        "print(f\"Acurácia:       {acuracia:.2%}\")\n",
        "print(f\"Precisão:       {precisao:.2%}\")\n",
        "print(f\"Sensibilidade:  {sensibilidade:.2%}\")\n",
        "print(f\"Especificidade: {especificidade:.2%}\")\n",
        "print(f\"F-Score:        {f_score:.2%}\")\n"
      ]
    }
  ]
}